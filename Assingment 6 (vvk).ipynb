{
 "cells": [
  {
   "cell_type": "code",
   "execution_count": null,
   "id": "d3c86423",
   "metadata": {},
   "outputs": [],
   "source": [
    "1.What are escape characters, and how do you use them"
   ]
  },
  {
   "cell_type": "code",
   "execution_count": null,
   "id": "275a2967",
   "metadata": {},
   "outputs": [],
   "source": [
    "Ans.Escape characters represent characters in string values that would otherwise be difficult or impossible to type into code. In Python strings, the backslash \"\\\" is a special character, also called the \"escape\" character. It is used in representing certain whitespace characters: \"\\t\" is a tab, \"\\n\" is a newline, and \"\\r\" is a carriage return."
   ]
  },
  {
   "cell_type": "code",
   "execution_count": null,
   "id": "4d047258",
   "metadata": {},
   "outputs": [],
   "source": [
    " 2.What do the escape characters \\n and \\t stand for?"
   ]
  },
  {
   "cell_type": "code",
   "execution_count": null,
   "id": "fe3742f9",
   "metadata": {},
   "outputs": [],
   "source": [
    "Ans.\\n : New line escape character\n",
    "\\t : Tab space escape character"
   ]
  },
  {
   "cell_type": "code",
   "execution_count": 8,
   "id": "88912ad4",
   "metadata": {},
   "outputs": [
    {
     "name": "stdout",
     "output_type": "stream",
     "text": [
      "Hello!!!\n",
      "I'm genius.\n"
     ]
    }
   ],
   "source": [
    "# Use of \\n\n",
    "print(\"Hello!!!\\nI'm genius.\")"
   ]
  },
  {
   "cell_type": "code",
   "execution_count": 9,
   "id": "a6cfb4db",
   "metadata": {},
   "outputs": [
    {
     "name": "stdout",
     "output_type": "stream",
     "text": [
      "hello\tI'm genius\n"
     ]
    }
   ],
   "source": [
    "#use if \\t\n",
    "print(\"hello\\tI'm genius\")"
   ]
  },
  {
   "cell_type": "code",
   "execution_count": null,
   "id": "0a596ead",
   "metadata": {},
   "outputs": [],
   "source": [
    "3.What is the way to include backslash character in a string?"
   ]
  },
  {
   "cell_type": "code",
   "execution_count": null,
   "id": "73e6fc9b",
   "metadata": {},
   "outputs": [],
   "source": [
    "Ans.A blackslash character can be introduced with double blackslash characters."
   ]
  },
  {
   "cell_type": "code",
   "execution_count": 10,
   "id": "2344dbc7",
   "metadata": {},
   "outputs": [
    {
     "ename": "SyntaxError",
     "evalue": "EOL while scanning string literal (Temp/ipykernel_13344/1254780951.py, line 2)",
     "output_type": "error",
     "traceback": [
      "\u001b[1;36m  File \u001b[1;32m\"C:\\Users\\acer\\AppData\\Local\\Temp/ipykernel_13344/1254780951.py\"\u001b[1;36m, line \u001b[1;32m2\u001b[0m\n\u001b[1;33m    print('\\')\u001b[0m\n\u001b[1;37m              ^\u001b[0m\n\u001b[1;31mSyntaxError\u001b[0m\u001b[1;31m:\u001b[0m EOL while scanning string literal\n"
     ]
    }
   ],
   "source": [
    "# Using single backslash character\n",
    "print('\\')"
   ]
  },
  {
   "cell_type": "code",
   "execution_count": 11,
   "id": "b0032c1a",
   "metadata": {},
   "outputs": [
    {
     "name": "stdout",
     "output_type": "stream",
     "text": [
      "\\\n"
     ]
    }
   ],
   "source": [
    "print('\\\\')"
   ]
  },
  {
   "cell_type": "code",
   "execution_count": null,
   "id": "cc731aaa",
   "metadata": {},
   "outputs": [],
   "source": [
    "4.The string \"Howl's Moving Castle\" is a correct value. Why isn't the single quote character in the word Howl's not escaped a problem?"
   ]
  },
  {
   "cell_type": "code",
   "execution_count": null,
   "id": "adedc268",
   "metadata": {},
   "outputs": [],
   "source": [
    "Ans."
   ]
  },
  {
   "cell_type": "code",
   "execution_count": 14,
   "id": "f5c184e1",
   "metadata": {},
   "outputs": [
    {
     "ename": "SyntaxError",
     "evalue": "invalid syntax (Temp/ipykernel_13344/2678593153.py, line 1)",
     "output_type": "error",
     "traceback": [
      "\u001b[1;36m  File \u001b[1;32m\"C:\\Users\\acer\\AppData\\Local\\Temp/ipykernel_13344/2678593153.py\"\u001b[1;36m, line \u001b[1;32m1\u001b[0m\n\u001b[1;33m    print('Howl's Moving Castle' )\u001b[0m\n\u001b[1;37m                ^\u001b[0m\n\u001b[1;31mSyntaxError\u001b[0m\u001b[1;31m:\u001b[0m invalid syntax\n"
     ]
    }
   ],
   "source": [
    "print('Howl's Moving Castle' )"
   ]
  },
  {
   "cell_type": "code",
   "execution_count": 15,
   "id": "a0561d7f",
   "metadata": {},
   "outputs": [
    {
     "name": "stdout",
     "output_type": "stream",
     "text": [
      "Howl's Moving Castle\n"
     ]
    }
   ],
   "source": [
    "# adding backslash\n",
    "print('Howl\\'s Moving Castle')"
   ]
  },
  {
   "cell_type": "code",
   "execution_count": null,
   "id": "68fad96d",
   "metadata": {},
   "outputs": [],
   "source": [
    "5.How do you write a string of newlines if you don't want to use the n character?"
   ]
  },
  {
   "cell_type": "code",
   "execution_count": null,
   "id": "73a77cd3",
   "metadata": {},
   "outputs": [],
   "source": [
    "Ans.By default print statements add a new line character at the end of the string. We have to use multiline approach."
   ]
  },
  {
   "cell_type": "code",
   "execution_count": 17,
   "id": "8f492657",
   "metadata": {},
   "outputs": [
    {
     "name": "stdout",
     "output_type": "stream",
     "text": [
      "hello\n",
      "world\n"
     ]
    }
   ],
   "source": [
    "print(\"hello\")\n",
    "print(\"world\")"
   ]
  },
  {
   "cell_type": "code",
   "execution_count": null,
   "id": "6f284c9c",
   "metadata": {},
   "outputs": [],
   "source": [
    " 6.What are the values of the given expressions?"
   ]
  },
  {
   "cell_type": "code",
   "execution_count": null,
   "id": "23f7fa0b",
   "metadata": {},
   "outputs": [],
   "source": [
    "'Hello, world!'[1]\n",
    "    'Hello, world!'[0:5]\n",
    "    'Hello, world!'[:5]\n",
    "    'Hello, world!'[3:]"
   ]
  },
  {
   "cell_type": "code",
   "execution_count": 21,
   "id": "d6065e0f",
   "metadata": {},
   "outputs": [],
   "source": [
    "#Ans.\n",
    "V='Hello, world!'\n"
   ]
  },
  {
   "cell_type": "code",
   "execution_count": 22,
   "id": "b258303b",
   "metadata": {},
   "outputs": [
    {
     "data": {
      "text/plain": [
       "'e'"
      ]
     },
     "execution_count": 22,
     "metadata": {},
     "output_type": "execute_result"
    }
   ],
   "source": [
    "V[1]"
   ]
  },
  {
   "cell_type": "code",
   "execution_count": 23,
   "id": "522c759a",
   "metadata": {},
   "outputs": [
    {
     "data": {
      "text/plain": [
       "'Hello'"
      ]
     },
     "execution_count": 23,
     "metadata": {},
     "output_type": "execute_result"
    }
   ],
   "source": [
    "V[0:5]"
   ]
  },
  {
   "cell_type": "code",
   "execution_count": 24,
   "id": "03ffd4d6",
   "metadata": {},
   "outputs": [
    {
     "data": {
      "text/plain": [
       "'Hello'"
      ]
     },
     "execution_count": 24,
     "metadata": {},
     "output_type": "execute_result"
    }
   ],
   "source": [
    "V[:5]"
   ]
  },
  {
   "cell_type": "code",
   "execution_count": 25,
   "id": "2176e304",
   "metadata": {},
   "outputs": [
    {
     "data": {
      "text/plain": [
       "'lo, world!'"
      ]
     },
     "execution_count": 25,
     "metadata": {},
     "output_type": "execute_result"
    }
   ],
   "source": [
    "V[3:]"
   ]
  },
  {
   "cell_type": "code",
   "execution_count": null,
   "id": "6a8c1858",
   "metadata": {},
   "outputs": [],
   "source": [
    "7.What are the values of the following expressions?\n",
    "\n",
    "'Hello'.upper()\n",
    "    'Hello'.upper().isupper()\n",
    "    'Hello'.upper().lower()"
   ]
  },
  {
   "cell_type": "code",
   "execution_count": 4,
   "id": "688438b0",
   "metadata": {},
   "outputs": [],
   "source": [
    "s=\"Hello\""
   ]
  },
  {
   "cell_type": "code",
   "execution_count": 5,
   "id": "574a54f9",
   "metadata": {},
   "outputs": [
    {
     "data": {
      "text/plain": [
       "'HELLO'"
      ]
     },
     "execution_count": 5,
     "metadata": {},
     "output_type": "execute_result"
    }
   ],
   "source": [
    "s.upper()"
   ]
  },
  {
   "cell_type": "code",
   "execution_count": 7,
   "id": "6354580e",
   "metadata": {},
   "outputs": [
    {
     "data": {
      "text/plain": [
       "True"
      ]
     },
     "execution_count": 7,
     "metadata": {},
     "output_type": "execute_result"
    }
   ],
   "source": [
    "s.upper().isupper()"
   ]
  },
  {
   "cell_type": "code",
   "execution_count": 8,
   "id": "a5accab2",
   "metadata": {},
   "outputs": [
    {
     "data": {
      "text/plain": [
       "'hello'"
      ]
     },
     "execution_count": 8,
     "metadata": {},
     "output_type": "execute_result"
    }
   ],
   "source": [
    "s.upper().lower()"
   ]
  },
  {
   "cell_type": "code",
   "execution_count": null,
   "id": "86b27bb7",
   "metadata": {},
   "outputs": [],
   "source": [
    "8.What are the values of the following expressions?"
   ]
  },
  {
   "cell_type": "code",
   "execution_count": null,
   "id": "37d6a21d",
   "metadata": {},
   "outputs": [],
   "source": [
    "Remember, remember, the fifth of July.'.split()\n",
    "    '-'.join('There can only one.'.split())"
   ]
  },
  {
   "cell_type": "code",
   "execution_count": null,
   "id": "806d9f51",
   "metadata": {},
   "outputs": [],
   "source": [
    "Ans."
   ]
  },
  {
   "cell_type": "code",
   "execution_count": 3,
   "id": "56248b50",
   "metadata": {},
   "outputs": [
    {
     "data": {
      "text/plain": [
       "['Remember,', 'remember,', 'the', 'fifth', 'of', 'July.']"
      ]
     },
     "execution_count": 3,
     "metadata": {},
     "output_type": "execute_result"
    }
   ],
   "source": [
    "'Remember, remember, the fifth of July.'.split()"
   ]
  },
  {
   "cell_type": "code",
   "execution_count": 4,
   "id": "1dd4e876",
   "metadata": {},
   "outputs": [
    {
     "data": {
      "text/plain": [
       "'There-can-only-one.'"
      ]
     },
     "execution_count": 4,
     "metadata": {},
     "output_type": "execute_result"
    }
   ],
   "source": [
    "'-'.join('There can only one.'.split())"
   ]
  },
  {
   "cell_type": "code",
   "execution_count": null,
   "id": "a5d66875",
   "metadata": {},
   "outputs": [],
   "source": [
    "9.What are the methods for right-justifying, left-justifying, and centering a string?"
   ]
  },
  {
   "cell_type": "code",
   "execution_count": null,
   "id": "52a0277f",
   "metadata": {},
   "outputs": [],
   "source": [
    "Ans.The rjust(), ljust(), and center() string methods, respectively"
   ]
  },
  {
   "cell_type": "code",
   "execution_count": null,
   "id": "aabc26ed",
   "metadata": {},
   "outputs": [],
   "source": [
    "10.What is the best way to remove whitespace characters from the start or end?"
   ]
  },
  {
   "cell_type": "code",
   "execution_count": null,
   "id": "ab9d489a",
   "metadata": {},
   "outputs": [],
   "source": [
    "Ans.The lstrip() and rstrip() methods remove whitespace from the left and right ends of a string, respectively."
   ]
  },
  {
   "cell_type": "code",
   "execution_count": 5,
   "id": "d06de1d2",
   "metadata": {},
   "outputs": [],
   "source": [
    "v = \"  Hello, I'm robot. \""
   ]
  },
  {
   "cell_type": "code",
   "execution_count": 7,
   "id": "5b9e1d31",
   "metadata": {},
   "outputs": [
    {
     "name": "stdout",
     "output_type": "stream",
     "text": [
      "20\n",
      "  Hello, I'm robot. \n"
     ]
    }
   ],
   "source": [
    "print(len(v))\n",
    "print(v)"
   ]
  },
  {
   "cell_type": "code",
   "execution_count": 9,
   "id": "c52b5880",
   "metadata": {},
   "outputs": [],
   "source": [
    "# remove whitespaces\n",
    "v = v.strip()"
   ]
  },
  {
   "cell_type": "code",
   "execution_count": 10,
   "id": "0d17a288",
   "metadata": {
    "scrolled": true
   },
   "outputs": [
    {
     "name": "stdout",
     "output_type": "stream",
     "text": [
      "17\n",
      "Hello, I'm robot.\n"
     ]
    }
   ],
   "source": [
    "print(len(v))\n",
    "print(v)"
   ]
  },
  {
   "cell_type": "code",
   "execution_count": null,
   "id": "30bfa4c7",
   "metadata": {},
   "outputs": [],
   "source": []
  }
 ],
 "metadata": {
  "kernelspec": {
   "display_name": "Python 3 (ipykernel)",
   "language": "python",
   "name": "python3"
  },
  "language_info": {
   "codemirror_mode": {
    "name": "ipython",
    "version": 3
   },
   "file_extension": ".py",
   "mimetype": "text/x-python",
   "name": "python",
   "nbconvert_exporter": "python",
   "pygments_lexer": "ipython3",
   "version": "3.9.7"
  }
 },
 "nbformat": 4,
 "nbformat_minor": 5
}
